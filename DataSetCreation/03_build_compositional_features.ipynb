{
 "cells": [
  {
   "cell_type": "code",
   "execution_count": 1,
   "metadata": {
    "collapsed": true
   },
   "outputs": [],
   "source": [
    "import pandas as pd\n",
    "import numpy as np\n",
    "import matplotlib.pyplot as plt\n",
    "import mendeleev as md\n",
    "import re"
   ]
  },
  {
   "cell_type": "markdown",
   "metadata": {},
   "source": [
    "Now, the databasis are loaded"
   ]
  },
  {
   "cell_type": "code",
   "execution_count": 2,
   "metadata": {
    "collapsed": true
   },
   "outputs": [],
   "source": [
    "df = pd.read_csv('dfset_macro.csv')\n",
    "db = pd.read_csv('qmof_formulas.csv')"
   ]
  },
  {
   "cell_type": "markdown",
   "metadata": {},
   "source": [
    "Checking that compounds match in both databasis"
   ]
  },
  {
   "cell_type": "code",
   "execution_count": null,
   "metadata": {
    "collapsed": true
   },
   "outputs": [],
   "source": [
    "c = 0\n",
    "for formula in df['formula'].values:\n",
    "    if formula in db['formula'].values:\n",
    "        c += 1"
   ]
  },
  {
   "cell_type": "markdown",
   "metadata": {},
   "source": [
    "Column addition containing the formula in lexicographical fashion"
   ]
  },
  {
   "cell_type": "code",
   "execution_count": 4,
   "metadata": {},
   "outputs": [
    {
     "data": {
      "text/html": [
       "<div>\n",
       "<style scoped>\n",
       "    .dataframe tbody tr th:only-of-type {\n",
       "        vertical-align: middle;\n",
       "    }\n",
       "\n",
       "    .dataframe tbody tr th {\n",
       "        vertical-align: top;\n",
       "    }\n",
       "\n",
       "    .dataframe thead th {\n",
       "        text-align: right;\n",
       "    }\n",
       "</style>\n",
       "<table border=\"1\" class=\"dataframe\">\n",
       "  <thead>\n",
       "    <tr style=\"text-align: right;\">\n",
       "      <th></th>\n",
       "      <th>formula</th>\n",
       "      <th>name</th>\n",
       "    </tr>\n",
       "  </thead>\n",
       "  <tbody>\n",
       "    <tr>\n",
       "      <td>0</td>\n",
       "      <td>Ba2 C6 Cu1 H14 O16</td>\n",
       "      <td>ABACUF01_FSR_macro</td>\n",
       "    </tr>\n",
       "    <tr>\n",
       "      <td>1</td>\n",
       "      <td>C36 Cu12 H56 I16 N4 S4</td>\n",
       "      <td>ABALOF_FSR_macro</td>\n",
       "    </tr>\n",
       "    <tr>\n",
       "      <td>2</td>\n",
       "      <td>C48 Co4 H32 N8 O16</td>\n",
       "      <td>ABAVIJ_FSR_macro</td>\n",
       "    </tr>\n",
       "    <tr>\n",
       "      <td>3</td>\n",
       "      <td>C48 Co4 H32 N8 O16</td>\n",
       "      <td>ABAVOP_FSR_macro</td>\n",
       "    </tr>\n",
       "    <tr>\n",
       "      <td>4</td>\n",
       "      <td>C50 H32 N6 O8 S4 Zn2</td>\n",
       "      <td>ABAXUZ_FSR_macro</td>\n",
       "    </tr>\n",
       "    <tr>\n",
       "      <td>...</td>\n",
       "      <td>...</td>\n",
       "      <td>...</td>\n",
       "    </tr>\n",
       "    <tr>\n",
       "      <td>16024</td>\n",
       "      <td>C88 H44 O20 Ti4</td>\n",
       "      <td>pyrene_NCVDL_macro</td>\n",
       "    </tr>\n",
       "    <tr>\n",
       "      <td>16025</td>\n",
       "      <td>C76 Cd4 H80 N12 S8</td>\n",
       "      <td>pyrene_NUHTIW_macro</td>\n",
       "    </tr>\n",
       "    <tr>\n",
       "      <td>16026</td>\n",
       "      <td>C176 Fe8 H96 O40</td>\n",
       "      <td>pyrene_PGHIM_macro</td>\n",
       "    </tr>\n",
       "    <tr>\n",
       "      <td>16027</td>\n",
       "      <td>C88 H54 O20 Zn4</td>\n",
       "      <td>pyrene_VUQLEA_macro</td>\n",
       "    </tr>\n",
       "    <tr>\n",
       "      <td>16028</td>\n",
       "      <td>C176 Ca8 H104 O40</td>\n",
       "      <td>pyrene_XIXCOZ_macro</td>\n",
       "    </tr>\n",
       "  </tbody>\n",
       "</table>\n",
       "<p>16029 rows × 2 columns</p>\n",
       "</div>"
      ],
      "text/plain": [
       "                      formula                 name\n",
       "0          Ba2 C6 Cu1 H14 O16   ABACUF01_FSR_macro\n",
       "1      C36 Cu12 H56 I16 N4 S4     ABALOF_FSR_macro\n",
       "2          C48 Co4 H32 N8 O16     ABAVIJ_FSR_macro\n",
       "3          C48 Co4 H32 N8 O16     ABAVOP_FSR_macro\n",
       "4        C50 H32 N6 O8 S4 Zn2     ABAXUZ_FSR_macro\n",
       "...                       ...                  ...\n",
       "16024         C88 H44 O20 Ti4   pyrene_NCVDL_macro\n",
       "16025      C76 Cd4 H80 N12 S8  pyrene_NUHTIW_macro\n",
       "16026        C176 Fe8 H96 O40   pyrene_PGHIM_macro\n",
       "16027         C88 H54 O20 Zn4  pyrene_VUQLEA_macro\n",
       "16028       C176 Ca8 H104 O40  pyrene_XIXCOZ_macro\n",
       "\n",
       "[16029 rows x 2 columns]"
      ]
     },
     "execution_count": 4,
     "metadata": {},
     "output_type": "execute_result"
    }
   ],
   "source": [
    "db"
   ]
  },
  {
   "cell_type": "code",
   "execution_count": 5,
   "metadata": {
    "collapsed": true
   },
   "outputs": [],
   "source": [
    "#diccio = {k:v for k,v in zip(db['cif'].values, db['lexform'].values)}\n",
    "#df['lexform'] = [diccio.get(i,None) for i in df['cif']]\n",
    "dat = pd.read_csv('datosrahm.csv')\n",
    "\n",
    "symtoz = {k:v for k,v in zip(dat['Symbol'].values, dat['Z'].values)}\n",
    "symtoz['D'] = 1"
   ]
  },
  {
   "cell_type": "markdown",
   "metadata": {},
   "source": [
    "Creation of the dictionary to map element with the valence electron configuration"
   ]
  },
  {
   "cell_type": "code",
   "execution_count": 6,
   "metadata": {
    "collapsed": true
   },
   "outputs": [],
   "source": [
    "symtoconf = dict()\n",
    "for el, z in zip(dat['Symbol'].values, dat['Z'].values):\n",
    "    \n",
    "    evc = [0, 0, 0, 0]\n",
    "    z = int(z)\n",
    "    \n",
    "    if z <= 2 :\n",
    "        vc = md.element(int(z)).econf.split()\n",
    "    else:\n",
    "        vc = md.element(int(z)).econf.split()[1:]\n",
    "        \n",
    "    vc = [i[1:] for i in vc]\n",
    "    \n",
    "    for item in vc:\n",
    "        \n",
    "        if len(item) ==1:\n",
    "            item = item + '1'\n",
    "        \n",
    "        match = re.match(r\"([a-z]+)([0-9]+)\", item, re.I)\n",
    "        items = match.groups()\n",
    "        \n",
    "        if items[0] == 's':\n",
    "            evc[0] = int(items[1])/2\n",
    "        if items[0] == 'p':\n",
    "            evc[1] = int(items[1])/6\n",
    "        if items[0] == 'd':\n",
    "            evc[2] = int(items[1])/10\n",
    "        if items[0] == 'f':\n",
    "            evc[3] = int(items[1])/14\n",
    "    symtoconf[el] =  evc"
   ]
  },
  {
   "cell_type": "code",
   "execution_count": 7,
   "metadata": {
    "collapsed": true
   },
   "outputs": [],
   "source": [
    "symtoconf['D'] = symtoconf['H']"
   ]
  },
  {
   "cell_type": "markdown",
   "metadata": {},
   "source": [
    "The input data is built. The first dimension corresponds to the compound, the second one to the element in the formula, and the third one is the occupation fraction of the orbitals s, p, d, and f"
   ]
  },
  {
   "cell_type": "code",
   "execution_count": 9,
   "metadata": {
    "collapsed": true
   },
   "outputs": [],
   "source": [
    "atfrac = np.zeros((db.shape[0],96,4))\n",
    "for row in range(db.shape[0]):\n",
    "    formula = db['formula'][row]\n",
    "    formula = formula.split()\n",
    "    \n",
    "    for item in formula:\n",
    "        match = re.match(r\"([a-z]+)([0-9]+)\", item, re.I)\n",
    "        items = match.groups()\n",
    "        atfrac[row][symtoz.get(items[0],None)-1] = symtoconf.get(items[0],None)"
   ]
  },
  {
   "cell_type": "code",
   "execution_count": 10,
   "metadata": {},
   "outputs": [
    {
     "data": {
      "text/plain": [
       "array([[16029,     0,     0,     0],\n",
       "       [    0,     0,     0,     0],\n",
       "       [  260,     0,     0,     0],\n",
       "       [    2,     0,     0,     0],\n",
       "       [  113,   113,     0,     0],\n",
       "       [16029, 16029,     0,     0],\n",
       "       [13277, 13277,     0,     0],\n",
       "       [13328, 13328,     0,     0],\n",
       "       [  590,   590,     0,     0],\n",
       "       [    0,     0,     0,     0],\n",
       "       [  377,     0,     0,     0],\n",
       "       [  130,     0,     0,     0],\n",
       "       [   34,    34,     0,     0],\n",
       "       [   56,    56,     0,     0],\n",
       "       [  764,   764,     0,     0],\n",
       "       [ 2702,  2702,     0,     0],\n",
       "       [ 1600,  1600,     0,     0],\n",
       "       [    0,     0,     0,     0],\n",
       "       [  363,     0,     0,     0],\n",
       "       [  237,     0,     0,     0],\n",
       "       [   16,     0,    16,     0],\n",
       "       [   16,     0,    16,     0],\n",
       "       [  124,     0,   124,     0],\n",
       "       [   31,     0,    31,     0],\n",
       "       [  686,     0,   686,     0],\n",
       "       [  266,     0,   266,     0],\n",
       "       [  870,     0,   870,     0],\n",
       "       [  562,     0,   562,     0],\n",
       "       [ 2795,     0,  2795,     0],\n",
       "       [ 2805,     0,  2805,     0],\n",
       "       [   33,    33,    33,     0],\n",
       "       [    7,     7,     7,     0],\n",
       "       [   22,    22,    22,     0],\n",
       "       [   54,    54,    54,     0],\n",
       "       [  659,   659,   659,     0],\n",
       "       [    0,     0,     0,     0],\n",
       "       [   73,     0,     0,     0],\n",
       "       [  142,     0,     0,     0],\n",
       "       [   60,     0,    60,     0],\n",
       "       [   15,     0,    15,     0],\n",
       "       [    2,     0,     2,     0],\n",
       "       [  152,     0,   152,     0],\n",
       "       [    1,     0,     1,     0],\n",
       "       [   39,     0,    39,     0],\n",
       "       [   29,     0,    29,     0],\n",
       "       [    0,     0,    47,     0],\n",
       "       [ 1147,     0,  1147,     0],\n",
       "       [ 2584,     0,  2584,     0],\n",
       "       [   54,    54,    54,     0],\n",
       "       [  146,   146,   146,     0],\n",
       "       [   23,    23,    23,     0],\n",
       "       [   16,    16,    16,     0],\n",
       "       [  669,   669,   669,     0],\n",
       "       [    0,     0,     0,     0],\n",
       "       [   91,     0,     0,     0],\n",
       "       [  155,     0,     0,     0],\n",
       "       [  167,     0,   167,     0],\n",
       "       [    8,     0,     8,     8],\n",
       "       [  144,     0,     0,   144],\n",
       "       [  201,     0,     0,   201],\n",
       "       [    0,     0,     0,     0],\n",
       "       [  199,     0,     0,   199],\n",
       "       [   36,     0,     0,    36],\n",
       "       [  237,     0,   237,   237],\n",
       "       [  257,     0,     0,   257],\n",
       "       [  185,     0,     0,   185],\n",
       "       [  102,     0,     0,   102],\n",
       "       [  147,     0,     0,   147],\n",
       "       [   35,     0,     0,    35],\n",
       "       [   62,     0,     0,    62],\n",
       "       [   25,     0,    25,    25],\n",
       "       [    0,     0,     0,     0],\n",
       "       [    0,     0,     0,     0],\n",
       "       [   26,     0,    26,    26],\n",
       "       [    7,     0,     7,     7],\n",
       "       [    0,     0,     0,     0],\n",
       "       [    4,     0,     4,     4],\n",
       "       [   51,     0,    51,    51],\n",
       "       [   69,     0,    69,    69],\n",
       "       [  402,     0,   402,   402],\n",
       "       [   68,    68,    68,    68],\n",
       "       [  269,   269,   269,   269],\n",
       "       [   57,    57,    57,    57],\n",
       "       [    0,     0,     0,     0],\n",
       "       [    0,     0,     0,     0],\n",
       "       [    0,     0,     0,     0],\n",
       "       [    0,     0,     0,     0],\n",
       "       [    0,     0,     0,     0],\n",
       "       [    0,     0,     0,     0],\n",
       "       [   10,     0,    10,     0],\n",
       "       [    0,     0,     0,     0],\n",
       "       [  168,     0,   168,   168],\n",
       "       [    3,     0,     3,     3],\n",
       "       [    4,     0,     0,     4],\n",
       "       [    0,     0,     0,     0],\n",
       "       [    0,     0,     0,     0]])"
      ]
     },
     "execution_count": 10,
     "metadata": {},
     "output_type": "execute_result"
    }
   ],
   "source": [
    "(atfrac != 0).sum(axis=0)"
   ]
  },
  {
   "cell_type": "markdown",
   "metadata": {},
   "source": [
    "The input data with the valence electron configuration is saved, up to Z=96"
   ]
  },
  {
   "cell_type": "code",
   "execution_count": 11,
   "metadata": {
    "collapsed": true
   },
   "outputs": [],
   "source": [
    "np.save('element_features', atfrac[:,:96,:])"
   ]
  },
  {
   "cell_type": "code",
   "execution_count": 13,
   "metadata": {
    "collapsed": true
   },
   "outputs": [],
   "source": [
    "c = 0\n",
    "for row in range(df.shape[0]):\n",
    "    if db['name'][row] == df['name'][row]:\n",
    "        c += 1"
   ]
  },
  {
   "cell_type": "code",
   "execution_count": 15,
   "metadata": {},
   "outputs": [
    {
     "data": {
      "text/plain": [
       "0            Ba2 C6 Cu1 H14 O16\n",
       "1        C36 Cu12 H56 I16 N4 S4\n",
       "2            C48 Co4 H32 N8 O16\n",
       "3            C48 Co4 H32 N8 O16\n",
       "4          C50 H32 N6 O8 S4 Zn2\n",
       "                  ...          \n",
       "16024           C88 H44 O20 Ti4\n",
       "16025        C76 Cd4 H80 N12 S8\n",
       "16026          C176 Fe8 H96 O40\n",
       "16027           C88 H54 O20 Zn4\n",
       "16028         C176 Ca8 H104 O40\n",
       "Name: formula, Length: 16029, dtype: object"
      ]
     },
     "execution_count": 15,
     "metadata": {},
     "output_type": "execute_result"
    }
   ],
   "source": [
    "db['formula']"
   ]
  },
  {
   "cell_type": "code",
   "execution_count": null,
   "metadata": {
    "collapsed": true
   },
   "outputs": [],
   "source": []
  }
 ],
 "metadata": {
  "kernelspec": {
   "display_name": "Python 3",
   "language": "python",
   "name": "python3"
  },
  "language_info": {
   "codemirror_mode": {
    "name": "ipython",
    "version": 3
   },
   "file_extension": ".py",
   "mimetype": "text/x-python",
   "name": "python",
   "nbconvert_exporter": "python",
   "pygments_lexer": "ipython3",
   "version": "3.6.1"
  }
 },
 "nbformat": 4,
 "nbformat_minor": 2
}
