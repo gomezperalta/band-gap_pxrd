{
 "cells": [
  {
   "cell_type": "code",
   "execution_count": 1,
   "metadata": {
    "collapsed": true
   },
   "outputs": [],
   "source": [
    "import numpy as np\n",
    "import pandas as pd"
   ]
  },
  {
   "cell_type": "code",
   "execution_count": 2,
   "metadata": {
    "collapsed": true
   },
   "outputs": [],
   "source": [
    "lotes = np.arange(0,16200,300)"
   ]
  },
  {
   "cell_type": "code",
   "execution_count": 3,
   "metadata": {
    "collapsed": true
   },
   "outputs": [],
   "source": [
    "directorio = './'"
   ]
  },
  {
   "cell_type": "code",
   "execution_count": 4,
   "metadata": {
    "collapsed": true
   },
   "outputs": [],
   "source": [
    "for lote in lotes:\n",
    "    if lote == 0:\n",
    "        y = np.load(directorio + 'yset_' + str(lote) + '_0050.npy')\n",
    "        x = np.load(directorio + 'xset_' + str(lote) + '_0050.npy')\n",
    "        df = pd.read_pickle(directorio + 'dfset_' + str(lote) + '_0050.pkl')\n",
    "    else:\n",
    "        y_temp = np.load(directorio + 'yset_' + str(lote) + '_0050.npy')\n",
    "        y = np.concatenate((y,y_temp), axis=0)\n",
    "        \n",
    "        x_temp = np.load(directorio + 'xset_' + str(lote) + '_0050.npy')\n",
    "        x = np.concatenate((x,x_temp), axis=0)\n",
    "        \n",
    "        df_temp = pd.read_pickle(directorio + 'dfset_' + str(lote) + '_0050.pkl')\n",
    "        df = pd.concat((df, df_temp), ignore_index=True)\n",
    "\n",
    "np.save('xset_0050',x)        \n",
    "np.save('yset_0050',y)        \n",
    "df.to_csv(directorio + 'dfset_0050.csv', index=None)"
   ]
  },
  {
   "cell_type": "code",
   "execution_count": 5,
   "metadata": {
    "collapsed": true
   },
   "outputs": [],
   "source": [
    "for lote in lotes:\n",
    "    if lote == 0:\n",
    "        y = np.load(directorio + 'yset_' + str(lote) + '_0075.npy')\n",
    "        x = np.load(directorio + 'xset_' + str(lote) + '_0075.npy')\n",
    "        df = pd.read_pickle(directorio + 'dfset_' + str(lote) + '_0075.pkl')\n",
    "    else:\n",
    "        y_temp = np.load(directorio + 'yset_' + str(lote) + '_0075.npy')\n",
    "        y = np.concatenate((y,y_temp), axis=0)\n",
    "        \n",
    "        x_temp = np.load(directorio + 'xset_' + str(lote) + '_0075.npy')\n",
    "        x = np.concatenate((x,x_temp), axis=0)\n",
    "        \n",
    "        df_temp = pd.read_pickle(directorio + 'dfset_' + str(lote) + '_0075.pkl')\n",
    "        df = pd.concat((df, df_temp), ignore_index=True)\n",
    "\n",
    "np.save('xset_0075',x)        \n",
    "np.save('yset_0075',y)        \n",
    "df.to_csv(directorio + 'dfset_0075.csv', index=None)"
   ]
  },
  {
   "cell_type": "code",
   "execution_count": 6,
   "metadata": {
    "collapsed": true
   },
   "outputs": [],
   "source": [
    "for lote in lotes:\n",
    "    if lote == 0:\n",
    "        y = np.load(directorio + 'yset_' + str(lote) + '_0100.npy')\n",
    "        x = np.load(directorio + 'xset_' + str(lote) + '_0100.npy')\n",
    "        df = pd.read_pickle(directorio + 'dfset_' + str(lote) + '_0100.pkl')\n",
    "    else:\n",
    "        y_temp = np.load(directorio + 'yset_' + str(lote) + '_0100.npy')\n",
    "        y = np.concatenate((y,y_temp), axis=0)\n",
    "        \n",
    "        x_temp = np.load(directorio + 'xset_' + str(lote) + '_0100.npy')\n",
    "        x = np.concatenate((x,x_temp), axis=0)\n",
    "        \n",
    "        df_temp = pd.read_pickle(directorio + 'dfset_' + str(lote) + '_0100.pkl')\n",
    "        df = pd.concat((df, df_temp), ignore_index=True)\n",
    "\n",
    "np.save('xset_0100',x)        \n",
    "np.save('yset_0100',y)        \n",
    "df.to_csv(directorio + 'dfset_0100.csv', index=None)"
   ]
  },
  {
   "cell_type": "code",
   "execution_count": 7,
   "metadata": {
    "collapsed": true
   },
   "outputs": [],
   "source": [
    "for lote in lotes:\n",
    "    if lote == 0:\n",
    "        y = np.load(directorio + 'yset_' + str(lote) + '_0250.npy')\n",
    "        x = np.load(directorio + 'xset_' + str(lote) + '_0250.npy')\n",
    "        df = pd.read_pickle(directorio + 'dfset_' + str(lote) + '_0250.pkl')\n",
    "    else:\n",
    "        y_temp = np.load(directorio + 'yset_' + str(lote) + '_0250.npy')\n",
    "        y = np.concatenate((y,y_temp), axis=0)\n",
    "        \n",
    "        x_temp = np.load(directorio + 'xset_' + str(lote) + '_0250.npy')\n",
    "        x = np.concatenate((x,x_temp), axis=0)\n",
    "        \n",
    "        df_temp = pd.read_pickle(directorio + 'dfset_' + str(lote) + '_0250.pkl')\n",
    "        df = pd.concat((df, df_temp), ignore_index=True)\n",
    "\n",
    "np.save('xset_0250',x)        \n",
    "np.save('yset_0250',y)        \n",
    "df.to_csv(directorio + 'dfset_0250.csv', index=None)"
   ]
  },
  {
   "cell_type": "code",
   "execution_count": 8,
   "metadata": {
    "collapsed": true
   },
   "outputs": [],
   "source": [
    "for lote in lotes:\n",
    "    if lote == 0:\n",
    "        y = np.load(directorio + 'yset_' + str(lote) + '_macro.npy')\n",
    "        x = np.load(directorio + 'xset_' + str(lote) + '_macro.npy')\n",
    "        df = pd.read_pickle(directorio + 'dfset_' + str(lote) + '_macro.pkl')\n",
    "    else:\n",
    "        y_temp = np.load(directorio + 'yset_' + str(lote) + '_macro.npy')\n",
    "        y = np.concatenate((y,y_temp), axis=0)\n",
    "        \n",
    "        x_temp = np.load(directorio + 'xset_' + str(lote) + '_macro.npy')\n",
    "        x = np.concatenate((x,x_temp), axis=0)\n",
    "        \n",
    "        df_temp = pd.read_pickle(directorio + 'dfset_' + str(lote) + '_macro.pkl')\n",
    "        df = pd.concat((df, df_temp), ignore_index=True)\n",
    "\n",
    "np.save('xset_macro',x)        \n",
    "np.save('yset_macro',y)        \n",
    "df.to_csv(directorio + 'dfset_macro.csv', index=None)"
   ]
  },
  {
   "cell_type": "code",
   "execution_count": 9,
   "metadata": {},
   "outputs": [
    {
     "name": "stdout",
     "output_type": "stream",
     "text": [
      "0050\n"
     ]
    },
    {
     "name": "stderr",
     "output_type": "stream",
     "text": [
      "C:\\ProgramData\\Anaconda3\\lib\\site-packages\\ipykernel_launcher.py:7: FutureWarning: set_value is deprecated and will be removed in a future release. Please use .at[] or .iat[] accessors instead\n",
      "  import sys\n"
     ]
    },
    {
     "name": "stdout",
     "output_type": "stream",
     "text": [
      "0075\n",
      "0100\n",
      "0250\n",
      "macro\n"
     ]
    }
   ],
   "source": [
    "for dfname in ['dfset_0050.csv', 'dfset_0075.csv', 'dfset_0100.csv', 'dfset_0250.csv', 'dfset_macro.csv']:\n",
    "    \n",
    "    sufix = dfname.split('_')[1].split('.')[0]\n",
    "    df = pd.read_csv(dfname)\n",
    "    print(sufix)\n",
    "    for row in range(df.shape[0]):\n",
    "        df = df.set_value(row, 'name', df['name'][row] + '_' + sufix)\n",
    "    \n",
    "    df.to_csv(dfname, index=None)"
   ]
  },
  {
   "cell_type": "code",
   "execution_count": null,
   "metadata": {
    "collapsed": true
   },
   "outputs": [],
   "source": []
  }
 ],
 "metadata": {
  "kernelspec": {
   "display_name": "Python 3",
   "language": "python",
   "name": "python3"
  },
  "language_info": {
   "codemirror_mode": {
    "name": "ipython",
    "version": 3
   },
   "file_extension": ".py",
   "mimetype": "text/x-python",
   "name": "python",
   "nbconvert_exporter": "python",
   "pygments_lexer": "ipython3",
   "version": "3.6.1"
  }
 },
 "nbformat": 4,
 "nbformat_minor": 2
}
