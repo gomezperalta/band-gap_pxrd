{
 "cells": [
  {
   "cell_type": "code",
   "execution_count": 1,
   "metadata": {
    "collapsed": true
   },
   "outputs": [],
   "source": [
    "import pandas as pd\n",
    "import numpy as np\n",
    "import matplotlib.pyplot as plt"
   ]
  },
  {
   "cell_type": "code",
   "execution_count": 36,
   "metadata": {
    "collapsed": true
   },
   "outputs": [],
   "source": [
    "np. set_printoptions(suppress=True)"
   ]
  },
  {
   "cell_type": "markdown",
   "metadata": {},
   "source": [
    "### 1. QMOF dataset"
   ]
  },
  {
   "cell_type": "code",
   "execution_count": 2,
   "metadata": {
    "collapsed": true
   },
   "outputs": [],
   "source": [
    "x = np.load('element_features.npy')\n",
    "df = pd.read_csv('dfset_macro.csv')"
   ]
  },
  {
   "cell_type": "code",
   "execution_count": 25,
   "metadata": {},
   "outputs": [],
   "source": [
    "qmof = (x != 0).sum(axis=0)\n",
    "qmof = qmof.max(axis=1)"
   ]
  },
  {
   "cell_type": "code",
   "execution_count": 48,
   "metadata": {},
   "outputs": [],
   "source": [
    "qmofper = 100*np.round(qmof/df.shape[0],4)"
   ]
  },
  {
   "cell_type": "markdown",
   "metadata": {},
   "source": [
    "### 2. OMDB set"
   ]
  },
  {
   "cell_type": "code",
   "execution_count": 23,
   "metadata": {
    "collapsed": true
   },
   "outputs": [],
   "source": [
    "x2 = np.load('C:/iG_2022/OMDB-GAP1_v1.1/omdb_sets/element_features.npy')\n",
    "df2 = pd.read_csv('C:/iG_2022/OMDB-GAP1_v1.1/omdb_sets/dfset_macro.csv')"
   ]
  },
  {
   "cell_type": "code",
   "execution_count": 27,
   "metadata": {
    "collapsed": true
   },
   "outputs": [],
   "source": [
    "omdb = (x2 != 0).sum(axis=0)\n",
    "omdb = omdb.max(axis=1)"
   ]
  },
  {
   "cell_type": "code",
   "execution_count": 47,
   "metadata": {},
   "outputs": [],
   "source": [
    "omdbper = 100*np.round(omdb/df2.shape[0],4)"
   ]
  },
  {
   "cell_type": "markdown",
   "metadata": {},
   "source": [
    "### 3. HSE set"
   ]
  },
  {
   "cell_type": "code",
   "execution_count": 30,
   "metadata": {},
   "outputs": [],
   "source": [
    "x3 = np.load('C:/iG_2021/WS_bandgap_mapping/bg_hse_sets/element_features.npy')\n",
    "df3 = pd.read_csv('C:/iG_2021/WS_bandgap_mapping/bg_hse_sets/dfset_macro.csv')"
   ]
  },
  {
   "cell_type": "code",
   "execution_count": 31,
   "metadata": {
    "collapsed": true
   },
   "outputs": [],
   "source": [
    "hse = (x3 != 0).sum(axis=0)\n",
    "hse = hse.max(axis=1)"
   ]
  },
  {
   "cell_type": "code",
   "execution_count": 46,
   "metadata": {},
   "outputs": [],
   "source": [
    "hseper = 100*np.round(hse/df3.shape[0],4)"
   ]
  },
  {
   "cell_type": "markdown",
   "metadata": {},
   "source": [
    "### 4. csv-files creation"
   ]
  },
  {
   "cell_type": "code",
   "execution_count": 44,
   "metadata": {
    "collapsed": true
   },
   "outputs": [],
   "source": [
    "dat = pd.read_csv('C:\\iG_2021\\DLRofCS\\datosrahm.csv')\n",
    "symtoz = {k:v for v,k in zip(dat['Symbol'].values, dat['Z'].values)}"
   ]
  },
  {
   "cell_type": "code",
   "execution_count": 64,
   "metadata": {
    "collapsed": true
   },
   "outputs": [],
   "source": [
    "def create_df(arr, name = ''):\n",
    "    simb = list()\n",
    "    per = list()\n",
    "\n",
    "    for row in range(arr.shape[0]):\n",
    "\n",
    "        simb += [symtoz.get(row+1,None)]\n",
    "        per += [arr[row]]\n",
    "\n",
    "    db = pd.DataFrame({'Symbol':simb, '%':per})\n",
    "    db = db.round(2)\n",
    "    db = db.sort_values(by='%', ascending=False)\n",
    "    db.to_csv(name + '.csv', index = None)\n",
    "    \n",
    "    return\n"
   ]
  },
  {
   "cell_type": "code",
   "execution_count": 65,
   "metadata": {},
   "outputs": [],
   "source": [
    "create_df(hseper, name='hse_perdist')\n",
    "create_df(qmofper, name='qmof_perdist')\n",
    "create_df(omdbper, name='omdb_perdist')"
   ]
  },
  {
   "cell_type": "code",
   "execution_count": null,
   "metadata": {
    "collapsed": true
   },
   "outputs": [],
   "source": []
  }
 ],
 "metadata": {
  "kernelspec": {
   "display_name": "Python 3",
   "language": "python",
   "name": "python3"
  },
  "language_info": {
   "codemirror_mode": {
    "name": "ipython",
    "version": 3
   },
   "file_extension": ".py",
   "mimetype": "text/x-python",
   "name": "python",
   "nbconvert_exporter": "python",
   "pygments_lexer": "ipython3",
   "version": "3.6.1"
  }
 },
 "nbformat": 4,
 "nbformat_minor": 2
}
