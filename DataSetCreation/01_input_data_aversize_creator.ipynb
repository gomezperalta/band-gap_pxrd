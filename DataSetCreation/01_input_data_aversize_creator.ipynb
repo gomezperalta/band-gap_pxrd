{
 "cells": [
  {
   "cell_type": "code",
   "execution_count": 1,
   "metadata": {
    "collapsed": true
   },
   "outputs": [],
   "source": [
    "import numpy as np\n",
    "import pandas as pd\n",
    "import matplotlib.pyplot as plt"
   ]
  },
  {
   "cell_type": "code",
   "execution_count": 2,
   "metadata": {
    "collapsed": true
   },
   "outputs": [],
   "source": [
    "def load_xrd(cif=1000000):\n",
    "    return pd.read_csv(cif + '.xy', sep='\\t', header=None)"
   ]
  },
  {
   "cell_type": "code",
   "execution_count": 3,
   "metadata": {
    "collapsed": true
   },
   "outputs": [],
   "source": [
    "np.random.seed(10)"
   ]
  },
  {
   "cell_type": "code",
   "execution_count": 4,
   "metadata": {
    "collapsed": true
   },
   "outputs": [],
   "source": [
    "df = pd.read_pickle('../qmof_df.pkl')"
   ]
  },
  {
   "cell_type": "markdown",
   "metadata": {},
   "source": [
    "## Picking common MOFs in all directories"
   ]
  },
  {
   "cell_type": "code",
   "execution_count": 5,
   "metadata": {
    "collapsed": true
   },
   "outputs": [],
   "source": [
    "macro = open('./mofs_macro/control_xy.txt','r')\n",
    "macro = [i.split('.')[0] for i in macro.readlines()]\n",
    "#'''\n",
    "s0050 = open('./mofs_0050nm/control_xy.txt','r')\n",
    "s0050 = ['_'.join(i.split('_')[:2]) for i in s0050.readlines()]\n",
    "#'''\n",
    "s0075 = open('./mofs_0075nm/control_xy.txt','r')\n",
    "s0075 = ['_'.join(i.split('_')[:2]) for i in s0075.readlines()]\n",
    "\n",
    "s0100 = open('./mofs_0100nm/control_xy.txt','r')\n",
    "s0100 = ['_'.join(i.split('_')[:2]) for i in s0100.readlines()]\n",
    "\n",
    "s0250 = open('./mofs_0250nm/control_xy.txt','r')\n",
    "s0250 = ['_'.join(i.split('_')[:2]) for i in s0250.readlines()]"
   ]
  },
  {
   "cell_type": "code",
   "execution_count": 6,
   "metadata": {
    "collapsed": true
   },
   "outputs": [],
   "source": [
    "common1 = np.intersect1d(macro,s0075)\n",
    "common2 = np.intersect1d(s0100,s0250)\n",
    "common3 = np.intersect1d(common1,s0050)\n",
    "\n",
    "common = np.intersect1d(common3, common2)"
   ]
  },
  {
   "cell_type": "markdown",
   "metadata": {},
   "source": [
    "The variable 'common' enlist the common MOFs in all directories."
   ]
  },
  {
   "cell_type": "code",
   "execution_count": 7,
   "metadata": {},
   "outputs": [
    {
     "data": {
      "text/plain": [
       "(16029,)"
      ]
     },
     "execution_count": 7,
     "metadata": {},
     "output_type": "execute_result"
    }
   ],
   "source": [
    "common.shape"
   ]
  },
  {
   "cell_type": "markdown",
   "metadata": {},
   "source": [
    "Now, we take the common MOFs from the dataframe"
   ]
  },
  {
   "cell_type": "code",
   "execution_count": 8,
   "metadata": {
    "collapsed": true
   },
   "outputs": [],
   "source": [
    "df = df.loc[df['name'].isin([i for i in common])]"
   ]
  },
  {
   "cell_type": "code",
   "execution_count": 9,
   "metadata": {
    "collapsed": true
   },
   "outputs": [],
   "source": [
    "df = df[['name', 'info.formula','outputs.pbe.bandgap']]"
   ]
  },
  {
   "cell_type": "code",
   "execution_count": 10,
   "metadata": {},
   "outputs": [
    {
     "data": {
      "image/png": "[encoded data removed]",
      "text/plain": [
       "<Figure size 432x288 with 1 Axes>"
      ]
     },
     "metadata": {},
     "output_type": "display_data"
    }
   ],
   "source": [
    "plt.figure()\n",
    "plt.hist(df['outputs.pbe.bandgap'].values, bins=200)\n",
    "#plt.hlines(y=55, xmin=0, xmax=5, color='black')\n",
    "plt.show()"
   ]
  },
  {
   "cell_type": "markdown",
   "metadata": {},
   "source": [
    "We will compute the input data, the output data and the csv-file in batches of 300 samples."
   ]
  },
  {
   "cell_type": "code",
   "execution_count": 11,
   "metadata": {},
   "outputs": [
    {
     "data": {
      "text/plain": [
       "16029"
      ]
     },
     "execution_count": 11,
     "metadata": {},
     "output_type": "execute_result"
    }
   ],
   "source": [
    "df.shape[0]"
   ]
  },
  {
   "cell_type": "code",
   "execution_count": 12,
   "metadata": {
    "collapsed": true
   },
   "outputs": [],
   "source": [
    "steps = np.arange(0, 16200, 300)"
   ]
  },
  {
   "cell_type": "code",
   "execution_count": 13,
   "metadata": {},
   "outputs": [
    {
     "data": {
      "text/plain": [
       "array([    0,   300,   600,   900,  1200,  1500,  1800,  2100,  2400,\n",
       "        2700,  3000,  3300,  3600,  3900,  4200,  4500,  4800,  5100,\n",
       "        5400,  5700,  6000,  6300,  6600,  6900,  7200,  7500,  7800,\n",
       "        8100,  8400,  8700,  9000,  9300,  9600,  9900, 10200, 10500,\n",
       "       10800, 11100, 11400, 11700, 12000, 12300, 12600, 12900, 13200,\n",
       "       13500, 13800, 14100, 14400, 14700, 15000, 15300, 15600, 15900])"
      ]
     },
     "execution_count": 13,
     "metadata": {},
     "output_type": "execute_result"
    }
   ],
   "source": [
    "steps"
   ]
  },
  {
   "cell_type": "markdown",
   "metadata": {},
   "source": [
    "The next code can be modified to create the needed data according to the directory in use."
   ]
  },
  {
   "cell_type": "code",
   "execution_count": 15,
   "metadata": {},
   "outputs": [
    {
     "name": "stdout",
     "output_type": "stream",
     "text": [
      "Finished for first 300 compounds\n",
      "Finished for first 600 compounds\n",
      "Finished for first 900 compounds\n",
      "Finished for first 1200 compounds\n",
      "Finished for first 1500 compounds\n",
      "Finished for first 1800 compounds\n",
      "Finished for first 2100 compounds\n",
      "Finished for first 2400 compounds\n",
      "Finished for first 2700 compounds\n",
      "Finished for first 3000 compounds\n",
      "Finished for first 3300 compounds\n",
      "Finished for first 3600 compounds\n",
      "Finished for first 3900 compounds\n",
      "Finished for first 4200 compounds\n",
      "Finished for first 4500 compounds\n",
      "Finished for first 4800 compounds\n",
      "Finished for first 5100 compounds\n",
      "Finished for first 5400 compounds\n",
      "Finished for first 5700 compounds\n",
      "Finished for first 6000 compounds\n",
      "Finished for first 6300 compounds\n",
      "Finished for first 6600 compounds\n",
      "Finished for first 6900 compounds\n",
      "Finished for first 7200 compounds\n",
      "Finished for first 7500 compounds\n",
      "Finished for first 7800 compounds\n",
      "Finished for first 8100 compounds\n",
      "Finished for first 8400 compounds\n",
      "Finished for first 8700 compounds\n",
      "Finished for first 9000 compounds\n",
      "Finished for first 9300 compounds\n",
      "Finished for first 9600 compounds\n",
      "Finished for first 9900 compounds\n",
      "Finished for first 10200 compounds\n",
      "Finished for first 10500 compounds\n",
      "Finished for first 10800 compounds\n",
      "Finished for first 11100 compounds\n",
      "Finished for first 11400 compounds\n",
      "Finished for first 11700 compounds\n",
      "Finished for first 12000 compounds\n",
      "Finished for first 12300 compounds\n",
      "Finished for first 12600 compounds\n",
      "Finished for first 12900 compounds\n",
      "Finished for first 13200 compounds\n",
      "Finished for first 13500 compounds\n",
      "Finished for first 13800 compounds\n",
      "Finished for first 14100 compounds\n",
      "Finished for first 14400 compounds\n",
      "Finished for first 14700 compounds\n",
      "Finished for first 15000 compounds\n",
      "Finished for first 15300 compounds\n",
      "Finished for first 15600 compounds\n",
      "Finished for first 15900 compounds\n",
      "Finished for first 16200 compounds\n"
     ]
    }
   ],
   "source": [
    "for item in steps:\n",
    "    \n",
    "    df_temp = df_temp = df.iloc[item:(item+300),:].reset_index(drop=True)\n",
    "    \n",
    "    for row in range(df_temp.shape[0]):\n",
    "\n",
    "        xrd = load_xrd(cif='./mofs_0050nm/' + df_temp.iloc[row,0] + '_0050')\n",
    "        input_noise = xrd[1].values/xrd[1].values.max()\n",
    "        noise = 1e-3*np.random.uniform(size=input_data.shape)\n",
    "        input_noise = input_data + noise\n",
    "        q = np.sin(np.deg2rad(xrd[0].values/2))\n",
    "        diff = np.concatenate((input_noise[:,np.newaxis], q[:,np.newaxis]), axis=1)\n",
    "\n",
    "        if row == 0:\n",
    "            diff_stacked = diff[np.newaxis,:,:]\n",
    "        else:\n",
    "            diff_stacked = np.concatenate((diff_stacked, diff[np.newaxis,:,:]), axis = 0)\n",
    "\n",
    "    print('Finished for first', item + 300, 'compounds')\n",
    "    \n",
    "    np.save('./xset_' + str(item) + '_0050', diff_stacked)\n",
    "    np.save('./yset_' + str(item) + '_0050', df_temp['outputs.pbe.bandgap'].values)\n",
    "    df_temp.to_pickle('./dfset_'+str(item)+'_0050.pkl')"
   ]
  },
  {
   "cell_type": "code",
   "execution_count": 16,
   "metadata": {},
   "outputs": [
    {
     "name": "stdout",
     "output_type": "stream",
     "text": [
      "Finished for first 300 compounds\n",
      "Finished for first 600 compounds\n",
      "Finished for first 900 compounds\n",
      "Finished for first 1200 compounds\n",
      "Finished for first 1500 compounds\n",
      "Finished for first 1800 compounds\n",
      "Finished for first 2100 compounds\n",
      "Finished for first 2400 compounds\n",
      "Finished for first 2700 compounds\n",
      "Finished for first 3000 compounds\n",
      "Finished for first 3300 compounds\n",
      "Finished for first 3600 compounds\n",
      "Finished for first 3900 compounds\n",
      "Finished for first 4200 compounds\n",
      "Finished for first 4500 compounds\n",
      "Finished for first 4800 compounds\n",
      "Finished for first 5100 compounds\n",
      "Finished for first 5400 compounds\n",
      "Finished for first 5700 compounds\n",
      "Finished for first 6000 compounds\n",
      "Finished for first 6300 compounds\n",
      "Finished for first 6600 compounds\n",
      "Finished for first 6900 compounds\n",
      "Finished for first 7200 compounds\n",
      "Finished for first 7500 compounds\n",
      "Finished for first 7800 compounds\n",
      "Finished for first 8100 compounds\n",
      "Finished for first 8400 compounds\n",
      "Finished for first 8700 compounds\n",
      "Finished for first 9000 compounds\n",
      "Finished for first 9300 compounds\n",
      "Finished for first 9600 compounds\n",
      "Finished for first 9900 compounds\n",
      "Finished for first 10200 compounds\n",
      "Finished for first 10500 compounds\n",
      "Finished for first 10800 compounds\n",
      "Finished for first 11100 compounds\n",
      "Finished for first 11400 compounds\n",
      "Finished for first 11700 compounds\n",
      "Finished for first 12000 compounds\n",
      "Finished for first 12300 compounds\n",
      "Finished for first 12600 compounds\n",
      "Finished for first 12900 compounds\n",
      "Finished for first 13200 compounds\n",
      "Finished for first 13500 compounds\n",
      "Finished for first 13800 compounds\n",
      "Finished for first 14100 compounds\n",
      "Finished for first 14400 compounds\n",
      "Finished for first 14700 compounds\n",
      "Finished for first 15000 compounds\n",
      "Finished for first 15300 compounds\n",
      "Finished for first 15600 compounds\n",
      "Finished for first 15900 compounds\n",
      "Finished for first 16200 compounds\n"
     ]
    }
   ],
   "source": [
    "for item in steps:\n",
    "    \n",
    "    df_temp = df_temp = df.iloc[item:(item+300),:].reset_index(drop=True)\n",
    "    \n",
    "    for row in range(df_temp.shape[0]):\n",
    "\n",
    "        xrd = load_xrd(cif='./mofs_0075nm/' + df_temp.iloc[row,0] + '_0075')\n",
    "        input_noise = xrd[1].values/xrd[1].values.max()\n",
    "        noise = 1e-3*np.random.uniform(size=input_data.shape)\n",
    "        input_noise = input_data + noise\n",
    "        q = np.sin(np.deg2rad(xrd[0].values/2))\n",
    "        diff = np.concatenate((input_noise[:,np.newaxis], q[:,np.newaxis]), axis=1)\n",
    "\n",
    "        if row == 0:\n",
    "            diff_stacked = diff[np.newaxis,:,:]\n",
    "        else:\n",
    "            diff_stacked = np.concatenate((diff_stacked, diff[np.newaxis,:,:]), axis = 0)\n",
    "\n",
    "    print('Finished for first', item + 300, 'compounds')\n",
    "    \n",
    "    np.save('./xset_' + str(item) + '_0075', diff_stacked)\n",
    "    np.save('./yset_' + str(item) + '_0075', df_temp['outputs.pbe.bandgap'].values)\n",
    "    df_temp.to_pickle('./dfset_'+str(item)+'_0075.pkl')"
   ]
  },
  {
   "cell_type": "code",
   "execution_count": 17,
   "metadata": {},
   "outputs": [
    {
     "name": "stdout",
     "output_type": "stream",
     "text": [
      "Finished for first 300 compounds\n",
      "Finished for first 600 compounds\n",
      "Finished for first 900 compounds\n",
      "Finished for first 1200 compounds\n",
      "Finished for first 1500 compounds\n",
      "Finished for first 1800 compounds\n",
      "Finished for first 2100 compounds\n",
      "Finished for first 2400 compounds\n",
      "Finished for first 2700 compounds\n",
      "Finished for first 3000 compounds\n",
      "Finished for first 3300 compounds\n",
      "Finished for first 3600 compounds\n",
      "Finished for first 3900 compounds\n",
      "Finished for first 4200 compounds\n",
      "Finished for first 4500 compounds\n",
      "Finished for first 4800 compounds\n",
      "Finished for first 5100 compounds\n",
      "Finished for first 5400 compounds\n",
      "Finished for first 5700 compounds\n",
      "Finished for first 6000 compounds\n",
      "Finished for first 6300 compounds\n",
      "Finished for first 6600 compounds\n",
      "Finished for first 6900 compounds\n",
      "Finished for first 7200 compounds\n",
      "Finished for first 7500 compounds\n",
      "Finished for first 7800 compounds\n",
      "Finished for first 8100 compounds\n",
      "Finished for first 8400 compounds\n",
      "Finished for first 8700 compounds\n",
      "Finished for first 9000 compounds\n",
      "Finished for first 9300 compounds\n",
      "Finished for first 9600 compounds\n",
      "Finished for first 9900 compounds\n",
      "Finished for first 10200 compounds\n",
      "Finished for first 10500 compounds\n",
      "Finished for first 10800 compounds\n",
      "Finished for first 11100 compounds\n",
      "Finished for first 11400 compounds\n",
      "Finished for first 11700 compounds\n",
      "Finished for first 12000 compounds\n",
      "Finished for first 12300 compounds\n",
      "Finished for first 12600 compounds\n",
      "Finished for first 12900 compounds\n",
      "Finished for first 13200 compounds\n",
      "Finished for first 13500 compounds\n",
      "Finished for first 13800 compounds\n",
      "Finished for first 14100 compounds\n",
      "Finished for first 14400 compounds\n",
      "Finished for first 14700 compounds\n",
      "Finished for first 15000 compounds\n",
      "Finished for first 15300 compounds\n",
      "Finished for first 15600 compounds\n",
      "Finished for first 15900 compounds\n",
      "Finished for first 16200 compounds\n"
     ]
    }
   ],
   "source": [
    "for item in steps:\n",
    "    \n",
    "    df_temp = df_temp = df.iloc[item:(item+300),:].reset_index(drop=True)\n",
    "    \n",
    "    for row in range(df_temp.shape[0]):\n",
    "\n",
    "        xrd = load_xrd(cif='./mofs_0100nm/' + df_temp.iloc[row,0] + '_0100')\n",
    "        input_noise = xrd[1].values/xrd[1].values.max()\n",
    "        noise = 1e-3*np.random.uniform(size=input_data.shape)\n",
    "        input_noise = input_data + noise\n",
    "        q = np.sin(np.deg2rad(xrd[0].values/2))\n",
    "        diff = np.concatenate((input_noise[:,np.newaxis], q[:,np.newaxis]), axis=1)\n",
    "\n",
    "        if row == 0:\n",
    "            diff_stacked = diff[np.newaxis,:,:]\n",
    "        else:\n",
    "            diff_stacked = np.concatenate((diff_stacked, diff[np.newaxis,:,:]), axis = 0)\n",
    "\n",
    "    print('Finished for first', item + 300, 'compounds')\n",
    "    \n",
    "    np.save('./xset_' + str(item) + '_0100', diff_stacked)\n",
    "    np.save('./yset_' + str(item) + '_0100', df_temp['outputs.pbe.bandgap'].values)\n",
    "    df_temp.to_pickle('./dfset_'+str(item)+'_0100.pkl')"
   ]
  },
  {
   "cell_type": "code",
   "execution_count": 18,
   "metadata": {},
   "outputs": [
    {
     "name": "stdout",
     "output_type": "stream",
     "text": [
      "Finished for first 300 compounds\n",
      "Finished for first 600 compounds\n",
      "Finished for first 900 compounds\n",
      "Finished for first 1200 compounds\n",
      "Finished for first 1500 compounds\n",
      "Finished for first 1800 compounds\n",
      "Finished for first 2100 compounds\n",
      "Finished for first 2400 compounds\n",
      "Finished for first 2700 compounds\n",
      "Finished for first 3000 compounds\n",
      "Finished for first 3300 compounds\n",
      "Finished for first 3600 compounds\n",
      "Finished for first 3900 compounds\n",
      "Finished for first 4200 compounds\n",
      "Finished for first 4500 compounds\n",
      "Finished for first 4800 compounds\n",
      "Finished for first 5100 compounds\n",
      "Finished for first 5400 compounds\n",
      "Finished for first 5700 compounds\n",
      "Finished for first 6000 compounds\n",
      "Finished for first 6300 compounds\n",
      "Finished for first 6600 compounds\n",
      "Finished for first 6900 compounds\n",
      "Finished for first 7200 compounds\n",
      "Finished for first 7500 compounds\n",
      "Finished for first 7800 compounds\n",
      "Finished for first 8100 compounds\n",
      "Finished for first 8400 compounds\n",
      "Finished for first 8700 compounds\n",
      "Finished for first 9000 compounds\n",
      "Finished for first 9300 compounds\n",
      "Finished for first 9600 compounds\n",
      "Finished for first 9900 compounds\n",
      "Finished for first 10200 compounds\n",
      "Finished for first 10500 compounds\n",
      "Finished for first 10800 compounds\n",
      "Finished for first 11100 compounds\n",
      "Finished for first 11400 compounds\n",
      "Finished for first 11700 compounds\n",
      "Finished for first 12000 compounds\n",
      "Finished for first 12300 compounds\n",
      "Finished for first 12600 compounds\n",
      "Finished for first 12900 compounds\n",
      "Finished for first 13200 compounds\n",
      "Finished for first 13500 compounds\n",
      "Finished for first 13800 compounds\n",
      "Finished for first 14100 compounds\n",
      "Finished for first 14400 compounds\n",
      "Finished for first 14700 compounds\n",
      "Finished for first 15000 compounds\n",
      "Finished for first 15300 compounds\n",
      "Finished for first 15600 compounds\n",
      "Finished for first 15900 compounds\n",
      "Finished for first 16200 compounds\n"
     ]
    }
   ],
   "source": [
    "for item in steps:\n",
    "    \n",
    "    df_temp = df_temp = df.iloc[item:(item+300),:].reset_index(drop=True)\n",
    "    \n",
    "    for row in range(df_temp.shape[0]):\n",
    "\n",
    "        xrd = load_xrd(cif='./mofs_0250nm/' + df_temp.iloc[row,0] + '_0250')\n",
    "        input_noise = xrd[1].values/xrd[1].values.max()\n",
    "        q = np.sin(np.deg2rad(xrd[0].values/2))\n",
    "        diff = np.concatenate((input_noise[:,np.newaxis], q[:,np.newaxis]), axis=1)\n",
    "\n",
    "        if row == 0:\n",
    "            diff_stacked = diff[np.newaxis,:,:]\n",
    "        else:\n",
    "            diff_stacked = np.concatenate((diff_stacked, diff[np.newaxis,:,:]), axis = 0)\n",
    "\n",
    "    print('Finished for first', item + 300, 'compounds')\n",
    "\n",
    "    np.save('./xset_' + str(item) + '_0250', diff_stacked)\n",
    "    np.save('./yset_' + str(item) + '_0250', df_temp['outputs.pbe.bandgap'].values)\n",
    "    df_temp.to_pickle('./dfset_'+str(item)+'_0250.pkl')"
   ]
  },
  {
   "cell_type": "code",
   "execution_count": 19,
   "metadata": {},
   "outputs": [
    {
     "name": "stdout",
     "output_type": "stream",
     "text": [
      "Finished for first 300 compounds\n",
      "Finished for first 600 compounds\n",
      "Finished for first 900 compounds\n",
      "Finished for first 1200 compounds\n",
      "Finished for first 1500 compounds\n",
      "Finished for first 1800 compounds\n",
      "Finished for first 2100 compounds\n",
      "Finished for first 2400 compounds\n",
      "Finished for first 2700 compounds\n",
      "Finished for first 3000 compounds\n",
      "Finished for first 3300 compounds\n",
      "Finished for first 3600 compounds\n",
      "Finished for first 3900 compounds\n",
      "Finished for first 4200 compounds\n",
      "Finished for first 4500 compounds\n",
      "Finished for first 4800 compounds\n",
      "Finished for first 5100 compounds\n",
      "Finished for first 5400 compounds\n",
      "Finished for first 5700 compounds\n",
      "Finished for first 6000 compounds\n",
      "Finished for first 6300 compounds\n",
      "Finished for first 6600 compounds\n",
      "Finished for first 6900 compounds\n",
      "Finished for first 7200 compounds\n",
      "Finished for first 7500 compounds\n",
      "Finished for first 7800 compounds\n",
      "Finished for first 8100 compounds\n",
      "Finished for first 8400 compounds\n",
      "Finished for first 8700 compounds\n",
      "Finished for first 9000 compounds\n",
      "Finished for first 9300 compounds\n",
      "Finished for first 9600 compounds\n",
      "Finished for first 9900 compounds\n",
      "Finished for first 10200 compounds\n",
      "Finished for first 10500 compounds\n",
      "Finished for first 10800 compounds\n",
      "Finished for first 11100 compounds\n",
      "Finished for first 11400 compounds\n",
      "Finished for first 11700 compounds\n",
      "Finished for first 12000 compounds\n",
      "Finished for first 12300 compounds\n",
      "Finished for first 12600 compounds\n",
      "Finished for first 12900 compounds\n",
      "Finished for first 13200 compounds\n",
      "Finished for first 13500 compounds\n",
      "Finished for first 13800 compounds\n",
      "Finished for first 14100 compounds\n",
      "Finished for first 14400 compounds\n",
      "Finished for first 14700 compounds\n",
      "Finished for first 15000 compounds\n",
      "Finished for first 15300 compounds\n",
      "Finished for first 15600 compounds\n",
      "Finished for first 15900 compounds\n",
      "Finished for first 16200 compounds\n"
     ]
    }
   ],
   "source": [
    "for item in steps:\n",
    "    \n",
    "    df_temp = df_temp = df.iloc[item:(item+300),:].reset_index(drop=True)\n",
    "    \n",
    "    for row in range(df_temp.shape[0]):\n",
    "\n",
    "        xrd = load_xrd(cif='./mofs_macro/' + df_temp.iloc[row,0])\n",
    "        input_noise = xrd[1].values/xrd[1].values.max()\n",
    "        q = np.sin(np.deg2rad(xrd[0].values/2))\n",
    "        diff = np.concatenate((input_noise[:,np.newaxis], q[:,np.newaxis]), axis=1)\n",
    "\n",
    "        if row == 0:\n",
    "            diff_stacked = diff[np.newaxis,:,:]\n",
    "        else:\n",
    "            diff_stacked = np.concatenate((diff_stacked, diff[np.newaxis,:,:]), axis = 0)\n",
    "\n",
    "    print('Finished for first', item + 300, 'compounds')\n",
    "\n",
    "    np.save('./xset_' + str(item) + '_macro', diff_stacked)\n",
    "    np.save('./yset_' + str(item) + '_macro', df_temp['outputs.pbe.bandgap'].values)\n",
    "    df_temp.to_pickle('./dfset_'+str(item)+'_macro.pkl')"
   ]
  }
 ],
 "metadata": {
  "kernelspec": {
   "display_name": "Python 3",
   "language": "python",
   "name": "python3"
  },
  "language_info": {
   "codemirror_mode": {
    "name": "ipython",
    "version": 3
   },
   "file_extension": ".py",
   "mimetype": "text/x-python",
   "name": "python",
   "nbconvert_exporter": "python",
   "pygments_lexer": "ipython3",
   "version": "3.6.1"
  }
 },
 "nbformat": 4,
 "nbformat_minor": 2
}
